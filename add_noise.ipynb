{
 "cells": [
  {
   "cell_type": "code",
   "execution_count": 2,
   "metadata": {},
   "outputs": [],
   "source": [
    "import numpy as np\n",
    "import os\n",
    "import cv2\n",
    "import random"
   ]
  },
  {
   "cell_type": "code",
   "execution_count": 30,
   "metadata": {
    "scrolled": false
   },
   "outputs": [
    {
     "name": "stdout",
     "output_type": "stream",
     "text": [
      "(480, 640)\n"
     ]
    },
    {
     "data": {
      "text/plain": [
       "array([109,  24,   2], dtype=uint8)"
      ]
     },
     "execution_count": 30,
     "metadata": {},
     "output_type": "execute_result"
    }
   ],
   "source": [
    "#read image\n",
    "src = cv2.imread(\"train2017/000000000009.jpg\", cv2.IMREAD_COLOR)\n",
    "hsv = cv2.cvtColor(src, cv2.COLOR_BGR2HSV)\n",
    "h, s, v = cv2.split(hsv)\n",
    "\n",
    "'''\n",
    "cv2.imshow(\"h\", h)\n",
    "cv2.imshow(\"s\", s)\n",
    "cv2.imshow(\"v\", v)\n",
    "cv2.waitKey(0)\n",
    "cv2.destroyAllWindows()\n",
    "'''\n",
    "#add noise to V value\n",
    "def add_noise(v, prob):\n",
    "    output = np.zeros(v.shape, np.uint8)\n",
    "\n",
    "    thres = 1 - prob\n",
    "    for i in range(len(v)): # 480\n",
    "        for j in range(len(v[1])): # 640\n",
    "            rdn = random.random()\n",
    "            if rdn < prob:\n",
    "                output[i][j] = 0\n",
    "            elif rdn > thres:\n",
    "                output[i][j] = 255\n",
    "            else:\n",
    "                output[i][j] = v[i][j]\n",
    "    print(output.shape)\n",
    "    return output\n",
    "\n",
    "output = add_noise(v, 0.05)\n",
    "img = cv2.merge([h, s, output])\n",
    "img = cv2.cvtColor(img, cv2.COLOR_HSV2BGR)\n",
    "\n",
    "#cv2.imshow(img)\n",
    "src[0][0]"
   ]
  },
  {
   "cell_type": "code",
   "execution_count": null,
   "metadata": {},
   "outputs": [],
   "source": []
  }
 ],
 "metadata": {
  "kernelspec": {
   "display_name": "Python 3",
   "language": "python",
   "name": "python3"
  },
  "language_info": {
   "codemirror_mode": {
    "name": "ipython",
    "version": 3
   },
   "file_extension": ".py",
   "mimetype": "text/x-python",
   "name": "python",
   "nbconvert_exporter": "python",
   "pygments_lexer": "ipython3",
   "version": "3.8.3"
  }
 },
 "nbformat": 4,
 "nbformat_minor": 4
}
